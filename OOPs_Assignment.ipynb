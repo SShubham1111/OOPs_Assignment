{
  "nbformat": 4,
  "nbformat_minor": 0,
  "metadata": {
    "colab": {
      "provenance": []
    },
    "kernelspec": {
      "name": "python3",
      "display_name": "Python 3"
    },
    "language_info": {
      "name": "python"
    }
  },
  "cells": [
    {
      "cell_type": "markdown",
      "source": [
        "# Theoritical Questions\n",
        "\n",
        "1. What is Object-Oriented Programming (OOP)\n",
        "- OOPs is the concept having classes and objects dealing with methods and attributes\n",
        "- Each class can have multiple instances\n",
        "- Contribute as - Abstraction , Encapsulation , Inheritance , Polymorphism\n",
        "\n",
        "2. What is a class in OOP\n",
        "- A class is like a blueprint for creating objects .\n",
        "- Has Various methods and attributes to deal with , which is being utilised by the objects for performing multiple operations\n",
        "- Memory location is not created for classes until the instances are created\n",
        "\n",
        "3. What is an object in OOP\n",
        "- An object is the instance of the class\n",
        "- Has actual data values and deals with multiple methods for performing variious operations\n",
        "- More then one object can be created for a single class\n",
        "\n",
        "4. What is the difference between abstraction and encapsulation\n",
        "- Abstraction is the method of hiding unnecessary and confidential data and used to get access of the neccesary attributes only\n",
        "- Anstraction is achieved using abc library as import abc and the function that has to be the abstract method is headed with the @abc.abstractmethod\n",
        "- Encapsulation is the process of bundling data that helps to restrict the control over the data\n",
        "- has access specifiers such as public , private and restricted access specifiers.\n",
        "\n",
        "5. What are dunder methods in Python\n",
        "- Dunder methods are the special methods that are used to perform specific tasks\n",
        "- They are called automatically\n",
        "- Some of the examples of dunder methods are __init__ , __call__ , __str__ etc\n",
        "- Strings , integers all has various dunder methods\n",
        "\n",
        "6. Explain the concept of inheritance in OOP\n",
        "- Inheritance lets one class reuse another class attributes & methods\n",
        "- The parent class shares functionality with the child class\n",
        "- The attributes and methods of the parent class can be acceseed by the child class itself\n",
        "\n",
        "7. What is polymorphism in OOP\n",
        "- Polymorphism can be achieved in two forms - Method Overloading and Method Overriding\n",
        "- Method overloading is not directly supported by the python but indirectly\n",
        "- has same name but is defined differently\n",
        "\n",
        "8.  How is encapsulation achieved in Python\n",
        "- Encapsulation is achieved by making the attributes privated data members and methods and restricted\n",
        "- private data member is named as __DataMember\n",
        "- Restricted data member is named as _DataMember\n",
        "- Ex-\n",
        "      - class Account:\n",
        "           def __init__(self):\n",
        "               self.__balance = 0\n",
        "           def deposit(self, amt):\n",
        "               self.__balance += amt\n",
        "           def get_balance(self):\n",
        "               return self.__balance\n",
        "\n",
        "9. What is a constructor in Python\n",
        "- COnstructer is the the method which is called itself when the object is been created\n",
        "- __init__ method acts as a constructer in python\n",
        "- Used in python for initializing attributes or data members in python\n",
        "- Ex -\n",
        "      class Student:\n",
        "        def __init__(self, name):\n",
        "           self.name = name\n",
        "\n",
        "10. What are class and static methods in Python\n",
        "- class methods are the methods which are associated with the class otself\n",
        "- defined as @classmethod\n",
        "- Static methods do not depend on class or object\n",
        "- static methods are used to access the methods without the objects directly\n",
        "\n",
        "11. What is method overloading in Python\n",
        "- Method verloading means same method name with different parameter list\n",
        "- Python does not support true method overloading\n",
        "\n",
        "12. What is method overriding in OOP\n",
        "- When a child class defines a method with the same name as its parent class\n",
        "- The childs version replaces the parents implementation or definition\n",
        "\n",
        "13. What is a property decorator in Python\n",
        "- @property allows a method to be accessed like an attribute\n",
        "- Used commonly for getters , setters and deleters\n",
        "- Improves readability and provide access in a much more controlled manner\n",
        "\n",
        "14. Why is polymorphism important in OOP\n",
        "- It lets one interface work with different data types or object\n",
        "- Enables the same method to behave differently across classes\n",
        "- Makes code more flexible, reusable, and maintainable\n",
        "\n",
        "15. What is an abstract class in Python\n",
        "- Abstract classes are defined using the abc library\n",
        "- They can have abstract methods that must be implemented in child classes\n",
        "- They serve as a blueprint for subclasses\n",
        "\n",
        "16. What are the advantages of OOP\n",
        "- Code reusability via inheritance and polymorphism\n",
        "- Encapsulation makes programs secure and modular\n",
        "- Easy maintenance and scalability of large systems\n",
        "\n",
        "17. What is multiple inheritance in Python\n",
        "- A class can inherit from more than one parent class\n",
        "- Useful when combining functionalities from different classes\n",
        "- Python resolves conflicts using MRO Method Resolution Order\n",
        "\n",
        "18. What is the difference between a class variable and an instance variable\n",
        "- Class variable:\n",
        "    - Belongs to the class itself.\n",
        "    - Shared by all objects (instances) of the class.\n",
        "    - Defined outside the constructor (__init__).\n",
        "- Instance variable:\n",
        "    - Belongs to a specific object.\n",
        "    - Each object has its own copy.\n",
        "    - Defined inside the constructor (__init__) using self.\n",
        "\n",
        "19. Explain the purpose of ‘’__str__’ and ‘__repr__’ ‘ methods in Python\n",
        "- __str__: Returns a user-friendly string used with print() or str()\n",
        "- __repr__: Returns a developer and debug friendly string used in console or repr()\n",
        "- If __str__ is not defined, Python falls back to __repr__\n",
        "\n",
        "20. What is the significance of the ‘super()’ function in Python\n",
        "- super() is used to call methods or constructors from the parent class\n",
        "- It avoids code duplication when child classes extend parent functionality\n",
        "- Commonly used in inheritance and method overriding\n",
        "\n",
        "21. What is the significance of the __del__ method in Python\n",
        "- __del__ is a destructor method, called when an object is about to be destroyed\n",
        "- Useful for cleanup tasks like closing files or releasing resources\n",
        "- It runs automatically when del obj is called or garbage collection happens\n",
        "\n",
        "22. What is the difference between @staticmethod and @classmethod in Python\n",
        "- @staticmethod:\n",
        "    - Does not take self or cls as the first parameter.\n",
        "    - Works like a normal function but lives inside a class.\n",
        "    - Cannot access or modify class state (cls) or instance state (self).\n",
        "- @classmethod:\n",
        "    - Takes cls (class itself) as the first parameter.\n",
        "    - Can access and modify class variables but not instance variables directly.\n",
        "\n",
        "23. How does polymorphism work in Python with inheritance\n",
        "- A parent class defines a method, and child classes override it with their own behavior\n",
        "- The same method call behaves differently depending on the object type\n",
        "- This enables runtime polymorphism, e.g., Dog.speak() vs Cat.speak()\n",
        "\n",
        "24. What is method chaining in Python OOP\n",
        "- Method chaining allows multiple methods to be called in a single line\n",
        "- It works when methods return self instead of some other value\n",
        "- Makes the code cleaner and more fluent\n",
        "\n",
        "25. What is the purpose of the __call__ method in Python?\n",
        "- The method makes an object behave like a function.\n",
        "- When defined, you can use object_name(args) just like calling a function.\n",
        "- Commonly used in decorators, machine learning models, and callable objects."
      ],
      "metadata": {
        "id": "N9AR_UWMZW28"
      }
    },
    {
      "cell_type": "markdown",
      "source": [
        "# Practical Questions"
      ],
      "metadata": {
        "id": "YgFXhWk1ZZxn"
      }
    },
    {
      "cell_type": "code",
      "source": [
        "#1. Create a parent class Animal with a method speak() that prints a generic message. Create a child class Dog that overrides the speak() method to print \"Bark!\".\n",
        "class Animal:\n",
        "  def speak(self):\n",
        "    print(\"Generic Message\")\n",
        "class Dog(Animal):\n",
        "  def speak(self):\n",
        "    print(\"Bark\")\n",
        "obj = Dog()\n",
        "obj.speak()"
      ],
      "metadata": {
        "colab": {
          "base_uri": "https://localhost:8080/"
        },
        "id": "YZPdVpUiZYZq",
        "outputId": "8c68cb5a-c7bb-4735-be1b-20603bac192b"
      },
      "execution_count": null,
      "outputs": [
        {
          "output_type": "stream",
          "name": "stdout",
          "text": [
            "Bark\n"
          ]
        }
      ]
    },
    {
      "cell_type": "code",
      "source": [
        "#2. Write a program to create an abstract class Shape with a method area(). Derive classes Circle and Rectangle from it and implement the area() method in both.\n",
        "import abc\n",
        "class ABC:\n",
        "  @abc.abstractmethod\n",
        "  def area(self):\n",
        "    self\n",
        "class Circle(ABC):\n",
        "  def area(self):\n",
        "    print('The area is pi*(r**2)')\n",
        "class Rectangle(ABC):\n",
        "  def area(self):\n",
        "    print(\"The area is length*breadth\")\n",
        "obj = Circle()\n",
        "obj1 = Rectangle()\n",
        "print(obj.area(),obj1.area())"
      ],
      "metadata": {
        "colab": {
          "base_uri": "https://localhost:8080/"
        },
        "id": "WprSJzmgay5M",
        "outputId": "5fdd6f25-6d86-4061-b937-29a3a0d8af27"
      },
      "execution_count": null,
      "outputs": [
        {
          "output_type": "stream",
          "name": "stdout",
          "text": [
            "The area is pi*(r**2)\n",
            "The area is length*breadth\n",
            "None None\n"
          ]
        }
      ]
    },
    {
      "cell_type": "code",
      "source": [
        "#3. Implement a multi-level inheritance scenario where a class Vehicle has an attribute type. Derive a class Car and further derive a class ElectricCar that adds a battery attribute.\n",
        "class Vehicle:\n",
        "  def __init__(self,name):\n",
        "    self.name = name\n",
        "  def drove(self):\n",
        "    print(\"Its in Vehicle class\")\n",
        "class Car(Vehicle):\n",
        "  def __init__(self,name1):\n",
        "    self.name1 = name1\n",
        "    super().__init__()\n",
        "  def drove(self):\n",
        "    print(\"Its in Car class\")\n",
        "class ElectricCar(Car):\n",
        "  def __init__(self,name2):\n",
        "    self.name2 = name2\n",
        "    Vehicle.__init__(self)\n",
        "    Car.__init__(self)\n",
        "  def drove(self):\n",
        "    print(\"Its in EV class\")"
      ],
      "metadata": {
        "id": "X581xN11a9Ap"
      },
      "execution_count": null,
      "outputs": []
    },
    {
      "cell_type": "code",
      "source": [
        "#4. Demonstrate polymorphism by creating a base class Bird with a method fly(). Create two derived classes Sparrow and Penguin that override the fly() method.\n",
        "class Bird:\n",
        "  def fly(self):\n",
        "    print('Bird is flying')\n",
        "class Sparrow(Bird):\n",
        "  def fly(self):\n",
        "    print(\"Sparrow is flying\")\n",
        "class Penguin(Bird):\n",
        "  def fly(self):\n",
        "    print(\"Penguin is walking\")\n",
        "obj = Penguin()\n",
        "obj.fly()"
      ],
      "metadata": {
        "colab": {
          "base_uri": "https://localhost:8080/"
        },
        "id": "Dq7cateda_Xt",
        "outputId": "883f2ffc-6e2d-4bcc-ab79-e3d8572c93bd"
      },
      "execution_count": null,
      "outputs": [
        {
          "output_type": "stream",
          "name": "stdout",
          "text": [
            "Penguin is walking\n"
          ]
        }
      ]
    },
    {
      "cell_type": "code",
      "source": [
        "#5. Write a program to demonstrate encapsulation by creating a class BankAccount with private attributes balance and methods to deposit, withdraw, and check balance\n",
        "class BankAccount():\n",
        "  def __init__(self, inam):\n",
        "    self.__inam = inam\n",
        "  def deposit(self,dam):\n",
        "    self.__inam += dam\n",
        "  def withdraw(self , wam):\n",
        "    if self.__inam >= wam:\n",
        "      self.__inam -= wam\n",
        "    else :\n",
        "      print(\"Insufficient Bank Balance\")\n",
        "  def checkbalance(self):\n",
        "    return self.__inam\n",
        "obj = BankAccount(1000)\n",
        "obj.checkbalance()\n",
        "obj.deposit(1000)\n",
        "obj.checkbalance()\n",
        "obj.withdraw(5000)"
      ],
      "metadata": {
        "colab": {
          "base_uri": "https://localhost:8080/"
        },
        "id": "e_YxslCBbBpW",
        "outputId": "4e2c8e35-b2fb-4fef-d1a0-754a49c715a7"
      },
      "execution_count": null,
      "outputs": [
        {
          "output_type": "stream",
          "name": "stdout",
          "text": [
            "Insufficient Bank Balance\n"
          ]
        }
      ]
    },
    {
      "cell_type": "code",
      "source": [
        "#6. Demonstrate runtime polymorphism using a method play() in a base class Instrument. Derive classes Guitar and Piano that implement their own version of play().\n",
        "class Instrument:\n",
        "  def play(self):\n",
        "    print('Instrumental Analysis')\n",
        "class Guitar(Instrument):\n",
        "  def play(self):\n",
        "    print('Playing Guitar')\n",
        "class Piano(Instrument):\n",
        "  def play(self):\n",
        "    print('Playing Piano')\n",
        "obj1 = Guitar()\n",
        "obj1.play()"
      ],
      "metadata": {
        "colab": {
          "base_uri": "https://localhost:8080/"
        },
        "id": "4zZL28kxbD5O",
        "outputId": "732cebce-3e2d-4c89-f791-bd128c616286"
      },
      "execution_count": null,
      "outputs": [
        {
          "output_type": "stream",
          "name": "stdout",
          "text": [
            "Playing Guitar\n"
          ]
        }
      ]
    },
    {
      "cell_type": "code",
      "source": [
        "#7. Create a class MathOperations with a class method add_numbers() to add two numbers and a static method subtract_numbers() to subtract two numbers.\n",
        "class MathOperations:\n",
        "  def add_numbers(self , a , b):\n",
        "    return a+b\n",
        "  def subtract_numbers(self,c,d):\n",
        "    return c-d\n",
        "obj = MathOperations()\n",
        "print(obj.add_numbers(10,20))\n",
        "print(obj.subtract_numbers(20,15))"
      ],
      "metadata": {
        "colab": {
          "base_uri": "https://localhost:8080/"
        },
        "id": "2Z5Jy9qSbGRy",
        "outputId": "a95218ea-dd1c-4ee2-903a-9b7202ad12c8"
      },
      "execution_count": null,
      "outputs": [
        {
          "output_type": "stream",
          "name": "stdout",
          "text": [
            "30\n",
            "5\n"
          ]
        }
      ]
    },
    {
      "cell_type": "code",
      "source": [
        "#8. Implement a class Person with a class method to count the total number of persons created.\n",
        "class Person:\n",
        "  person_num = 0\n",
        "  def __init__(self):\n",
        "    Person.person_num += 1\n",
        "  def counth(self):\n",
        "    return Person.person_num\n",
        "obj1 = Person()\n",
        "obj2 = Person()\n",
        "obj1.person_num"
      ],
      "metadata": {
        "colab": {
          "base_uri": "https://localhost:8080/"
        },
        "id": "JTkGEhOYbIcF",
        "outputId": "a04ff6ff-41b3-431d-8178-03004c384d7b"
      },
      "execution_count": null,
      "outputs": [
        {
          "output_type": "execute_result",
          "data": {
            "text/plain": [
              "2"
            ]
          },
          "metadata": {},
          "execution_count": 16
        }
      ]
    },
    {
      "cell_type": "code",
      "source": [
        "#9. Write a class Fraction with attributes numerator and denominator. Override the str method to display the fraction as \"numerator/denominator\".\n",
        "class Fraction:\n",
        "  def __init__(self,num,den):\n",
        "    self.num = num\n",
        "    self.den = den\n",
        "  def __str__(self):\n",
        "    return f\"{self.num}/{self.den}\"\n",
        "obj = Fraction(10,20)\n",
        "print(obj)"
      ],
      "metadata": {
        "colab": {
          "base_uri": "https://localhost:8080/"
        },
        "id": "0CwF3dYXbKbY",
        "outputId": "d348a215-a969-4c44-b802-f528c81fde47"
      },
      "execution_count": null,
      "outputs": [
        {
          "output_type": "stream",
          "name": "stdout",
          "text": [
            "10/20\n"
          ]
        }
      ]
    },
    {
      "cell_type": "code",
      "source": [
        "#10. Demonstrate operator overloading by creating a class Vector and overriding the add method to add two vectors.\n",
        "class Vector:\n",
        "  def __init__(self,x,y):\n",
        "    self.x = x\n",
        "    self.y = y\n",
        "  def __add__(self,other):\n",
        "    return self.x+other.x , self.y+other.y\n",
        "obj1 = Vector(10,10)\n",
        "obj2 = Vector(5,5)\n",
        "print(obj1 + obj2)"
      ],
      "metadata": {
        "colab": {
          "base_uri": "https://localhost:8080/"
        },
        "id": "UwRmxy9KbMZ_",
        "outputId": "c20a9b34-02f8-484f-b158-785dce2e113a"
      },
      "execution_count": null,
      "outputs": [
        {
          "output_type": "stream",
          "name": "stdout",
          "text": [
            "(15, 15)\n"
          ]
        }
      ]
    },
    {
      "cell_type": "code",
      "source": [
        "#11. Create a class Person with attributes name and age. Add a method greet() that prints \"Hello, my name is {name} and I am {age} years old.\"\n",
        "class Person:\n",
        "  def __init__(self , name , age):\n",
        "    self.name = name\n",
        "    self.age = age\n",
        "  def greet(self):\n",
        "    print(f\"Hello, my name is {self.name} and I am {self.age} years old\")\n",
        "obj = Person('Ram',100)\n",
        "obj.greet()"
      ],
      "metadata": {
        "colab": {
          "base_uri": "https://localhost:8080/"
        },
        "id": "J4SVB13BbPjp",
        "outputId": "24879063-e661-4e2a-db5a-a8552ed8735f"
      },
      "execution_count": null,
      "outputs": [
        {
          "output_type": "stream",
          "name": "stdout",
          "text": [
            "Hello, my name is Ram and I am 100 years old\n"
          ]
        }
      ]
    },
    {
      "cell_type": "code",
      "source": [
        "#12. Implement a class Student with attributes name and grades. Create a method average_grade() to compute the average of the grades.\n",
        "class Student:\n",
        "  def __init__(self,name,grades):\n",
        "    self.name = name\n",
        "    self.grades = grades\n",
        "  def average_grade(self):\n",
        "    a = 0\n",
        "    for i in self.grades:\n",
        "      a += i\n",
        "    return a/len(self.grades)\n",
        "obj = Student('Shyam' , [10,20,30])\n",
        "obj.average_grade()"
      ],
      "metadata": {
        "colab": {
          "base_uri": "https://localhost:8080/"
        },
        "id": "TgmhpWitbR3j",
        "outputId": "fa2bffd8-c14f-4155-dfd3-b068aff4be6e"
      },
      "execution_count": null,
      "outputs": [
        {
          "output_type": "execute_result",
          "data": {
            "text/plain": [
              "20.0"
            ]
          },
          "metadata": {},
          "execution_count": 29
        }
      ]
    },
    {
      "cell_type": "code",
      "source": [
        "#13. Create a class Rectangle with methods set_dimensions() to set the dimensions and area() to calculate the area.\n",
        "class Rectangle:\n",
        "  def set_dimentions(self,length,breadth):\n",
        "    self.length = length\n",
        "    self.breadth = breadth\n",
        "  def area(self):\n",
        "    return self.length*self.breadth\n",
        "obj = Rectangle()\n",
        "obj.set_dimentions(10,20)\n",
        "obj.area()"
      ],
      "metadata": {
        "colab": {
          "base_uri": "https://localhost:8080/"
        },
        "id": "KSD3qPt1bTtq",
        "outputId": "a6a0f5e8-df80-48b0-efce-765f2a6fc196"
      },
      "execution_count": null,
      "outputs": [
        {
          "output_type": "execute_result",
          "data": {
            "text/plain": [
              "200"
            ]
          },
          "metadata": {},
          "execution_count": 30
        }
      ]
    },
    {
      "cell_type": "code",
      "source": [
        "#14. Create a class Employee with a method calculate_salary() that computes the salary based on hours worked and hourly rate.\n",
        "# Create a derived class Manager that adds a bonus to the salary.\n",
        "class Employee:\n",
        "  def __init__(self,hours,rate):\n",
        "    self.hours = hours\n",
        "    self.hourly_rate = rate\n",
        "  def calculate_salary(self):\n",
        "    return self.hours*self.hourly_rate\n",
        "\n",
        "class Manager(Employee):\n",
        "  def __init__(self ,hours , hourly_rate, bonus):\n",
        "    Employee.__init__(self, hours, hourly_rate)\n",
        "    self.bonus= bonus\n",
        "\n",
        "  def calculate_salary(self):\n",
        "    return super().calculate_salary() + self.bonus\n",
        "\n",
        "obj = Manager(10,100,500)\n",
        "obj.calculate_salary()"
      ],
      "metadata": {
        "colab": {
          "base_uri": "https://localhost:8080/"
        },
        "id": "8lLkCsUJymBO",
        "outputId": "10f7d747-0b86-4a6b-b0cd-2e8c2188d4bc"
      },
      "execution_count": null,
      "outputs": [
        {
          "output_type": "execute_result",
          "data": {
            "text/plain": [
              "1500"
            ]
          },
          "metadata": {},
          "execution_count": 35
        }
      ]
    },
    {
      "cell_type": "code",
      "source": [
        "#15. Create a class Product with attributes name, price, and quantity. Implement a method total_price() that calculates the total price of the product.\n",
        "class Product:\n",
        "    def __init__(self, name, price, quantity):\n",
        "        self.name = name\n",
        "        self.price = price\n",
        "        self.quantity = quantity\n",
        "\n",
        "    def total_price(self):\n",
        "        return self.price * self.quantity\n",
        "obj1 = Product('ram', 10, 5)\n",
        "obj2 = Product('shyam', 20, 10)\n",
        "obj3 = Product('dhan', 30, 12)\n",
        "print(\"Total price of obj1:\", obj1.total_price())\n",
        "print(\"Total price of obj2:\", obj2.total_price())\n",
        "print(\"Total price of obj3:\", obj3.total_price())\n"
      ],
      "metadata": {
        "colab": {
          "base_uri": "https://localhost:8080/"
        },
        "id": "mVlOw96gbX9M",
        "outputId": "7ec3278e-4050-4c86-8b87-372645c05c38"
      },
      "execution_count": null,
      "outputs": [
        {
          "output_type": "stream",
          "name": "stdout",
          "text": [
            "Total price of obj1: 50\n",
            "Total price of obj2: 200\n",
            "Total price of obj3: 360\n"
          ]
        }
      ]
    },
    {
      "cell_type": "code",
      "source": [
        "#16. Create a class Animal with an abstract method sound(). Create two derived classes Cow and Sheep that implement the sound() method\n",
        "import abc\n",
        "class Animal:\n",
        "  @abc.abstractmethod\n",
        "  def sound(self):\n",
        "    Self\n",
        "class Cow(Animal):\n",
        "  def sound(self):\n",
        "    print('mawwwwwwwwwww')\n",
        "class Sheep(Animal):\n",
        "  def sound(self):\n",
        "    print('mehhhhhhhhhh')\n",
        "obj = Sheep()\n",
        "obj.sound()"
      ],
      "metadata": {
        "colab": {
          "base_uri": "https://localhost:8080/"
        },
        "id": "SlrwmsGSbad5",
        "outputId": "bc2a06ac-3e2c-4695-a3d8-92c181800764"
      },
      "execution_count": null,
      "outputs": [
        {
          "output_type": "stream",
          "name": "stdout",
          "text": [
            "mehhhhhhhhhh\n"
          ]
        }
      ]
    },
    {
      "cell_type": "code",
      "source": [
        "#17. Create a class Book with attributes title, author, and year_published. Add a method get_book_info() that returns a formatted string with the book's details.\n",
        "class Book:\n",
        "  def __init__(self , title , author , year_published):\n",
        "    self.title = title\n",
        "    self.author = author\n",
        "    self.year_published = year_published\n",
        "  def get_book_info(self):\n",
        "    return f\"THe title of the book is {self.title} written by {self.author} in the year {self.year_published}\"\n",
        "obj = Book(\"Ram Charitra Manas\" , 'Tulsidas' , 1576)\n",
        "obj.get_book_info()"
      ],
      "metadata": {
        "colab": {
          "base_uri": "https://localhost:8080/",
          "height": 36
        },
        "id": "T5Si3ZGPbcr5",
        "outputId": "de0a442b-ba4e-4c02-fa47-8c9642c5c4fb"
      },
      "execution_count": null,
      "outputs": [
        {
          "output_type": "execute_result",
          "data": {
            "text/plain": [
              "'THe title of the book is Ram Charitra Manas written by Tulsidas in the year 1576'"
            ],
            "application/vnd.google.colaboratory.intrinsic+json": {
              "type": "string"
            }
          },
          "metadata": {},
          "execution_count": 43
        }
      ]
    },
    {
      "cell_type": "code",
      "source": [
        "#18. Create a class House with attributes address and price. Create a derived class Mansion that adds an attribute number_of_rooms.\n",
        "class House:\n",
        "  def __init__(self , address , price):\n",
        "    self.address = address\n",
        "    self.price = price\n",
        "class Mansion(House):\n",
        "  def __init__(self , address , price , number_of_rooms):\n",
        "    self.number_of_rooms = number_of_rooms\n",
        "    House.__init__(self , address , price)\n",
        "  def getit(self):\n",
        "    return self.address , self.price , self.number_of_rooms\n",
        "obj = Mansion(\"abcd\" , 10 , 5)\n",
        "obj.getit()"
      ],
      "metadata": {
        "colab": {
          "base_uri": "https://localhost:8080/"
        },
        "id": "L7-KnJG1beiW",
        "outputId": "1ef316c2-1977-4fe7-9e49-5e9bc6a7f121"
      },
      "execution_count": null,
      "outputs": [
        {
          "output_type": "execute_result",
          "data": {
            "text/plain": [
              "('abcd', 10, 5)"
            ]
          },
          "metadata": {},
          "execution_count": 44
        }
      ]
    },
    {
      "cell_type": "code",
      "source": [],
      "metadata": {
        "id": "_G2mpV_o5GbL"
      },
      "execution_count": null,
      "outputs": []
    }
  ]
}